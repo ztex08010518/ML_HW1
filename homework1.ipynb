{
 "cells": [
  {
   "cell_type": "code",
   "execution_count": 1,
   "metadata": {},
   "outputs": [],
   "source": [
    "import argparse\n",
    "import numpy as np\n",
    "import matplotlib.pyplot as plt "
   ]
  },
  {
   "cell_type": "code",
   "execution_count": 2,
   "metadata": {},
   "outputs": [],
   "source": [
    "parser = argparse.ArgumentParser()\n",
    "parser.add_argument(\"--file\", default = \"test.txt\")\n",
    "parser.add_argument(\"--n\", default =  4)\n",
    "parser.add_argument(\"--lam\", default = 10000)\n",
    "args = parser.parse_args(args=[])\n",
    "\n"
   ]
  },
  {
   "cell_type": "code",
   "execution_count": 3,
   "metadata": {},
   "outputs": [],
   "source": [
    "def Read_file(file_name):\n",
    "    x = []\n",
    "    y = []\n",
    "    file = open(file_name, 'r')\n",
    "    for line in file:\n",
    "        line = line.strip('\\n')\n",
    "        nums = line.split(',')\n",
    "        x.append(float(nums[0]))\n",
    "        y.append([float(nums[1])])\n",
    "    return x, y   "
   ]
  },
  {
   "cell_type": "code",
   "execution_count": 4,
   "metadata": {},
   "outputs": [],
   "source": [
    "def matrix(x, n):\n",
    "    A = []\n",
    "    for i in range(len(x)):\n",
    "        row = []\n",
    "        for j in range(n-1, -1, -1):\n",
    "            row.append(x[i]**j)\n",
    "        A.append(row)\n",
    "    return A"
   ]
  },
  {
   "cell_type": "code",
   "execution_count": 5,
   "metadata": {},
   "outputs": [],
   "source": [
    "def matrix_transpose(A):\n",
    "    A_t = [[0 for i in range(len(A))] for j in range(len(A[0]))]\n",
    "    for i in range(len(A)):\n",
    "        for j in range(len(A[0])):\n",
    "            A_t[j][i] = A[i][j]\n",
    "    return A_t\n",
    "            "
   ]
  },
  {
   "cell_type": "code",
   "execution_count": 6,
   "metadata": {},
   "outputs": [],
   "source": [
    "def matrix_mul(A, B):\n",
    "    Result = [[0 for i in range(len(B[0]))] for j in range(len(A))]\n",
    "    for i in range(len(A)):\n",
    "        for j in range(len(B[0])):\n",
    "            for k in range(len(B)):\n",
    "                Result[i][j] += A[i][k] * B[k][j]\n",
    "    return Result"
   ]
  },
  {
   "cell_type": "code",
   "execution_count": 7,
   "metadata": {},
   "outputs": [],
   "source": [
    "def matrix_mul_scalar(A, c):\n",
    "    Result = [[0 for i in range(len(A[0]))] for j in range(len(A))]\n",
    "    for i in range(len(A)):\n",
    "        for j in range(len(A[0])):\n",
    "            Result[i][j] = A[i][j] * c\n",
    "    return Result"
   ]
  },
  {
   "cell_type": "code",
   "execution_count": 8,
   "metadata": {},
   "outputs": [],
   "source": [
    "def matrix_add(A, B):\n",
    "    C = Result = [[0 for i in range(len(A[0]))] for j in range(len(A))]\n",
    "    for i in range(len(A)):\n",
    "        for j in range(len(A[0])):\n",
    "            C[i][j] = A[i][j] + B[i][j]\n",
    "    return C"
   ]
  },
  {
   "cell_type": "code",
   "execution_count": 9,
   "metadata": {},
   "outputs": [],
   "source": [
    "def matrix_sub(A, B):\n",
    "    C = Result = [[0 for i in range(len(A[0]))] for j in range(len(A))]\n",
    "    for i in range(len(A)):\n",
    "        for j in range(len(A[0])):\n",
    "            C[i][j] = A[i][j] - B[i][j]\n",
    "    return C"
   ]
  },
  {
   "cell_type": "code",
   "execution_count": 10,
   "metadata": {},
   "outputs": [],
   "source": [
    "def Idendity_matrix(scale, n):\n",
    "    I = [[0 for i in range(n)] for j in range(n)]\n",
    "    for i in range(n):\n",
    "        I[i][i] = scale\n",
    "    return I"
   ]
  },
  {
   "cell_type": "code",
   "execution_count": 11,
   "metadata": {},
   "outputs": [],
   "source": [
    "def Idendity_matrix_for_inverse(scale, n):\n",
    "    I = [[[0] for i in range(n)] for j in range(n)]\n",
    "    for i in range(n):\n",
    "        I[i][i][0] = scale\n",
    "    return I"
   ]
  },
  {
   "cell_type": "code",
   "execution_count": 12,
   "metadata": {},
   "outputs": [],
   "source": [
    "def LU(A):\n",
    "    L = Idendity_matrix(1, len(A))\n",
    "    U = A\n",
    "    for i in range(len(A)):\n",
    "        for j in range(i+1, len(A)):\n",
    "            L[j][i] = A[j][i] / A[i][i]\n",
    "            U[j][i] = 0\n",
    "            for k in range(i+1, len(A)):\n",
    "                U[j][k] += -L[j][i] * A[i][k]\n",
    "    return L ,U        "
   ]
  },
  {
   "cell_type": "code",
   "execution_count": 13,
   "metadata": {},
   "outputs": [],
   "source": [
    "def lower_solve(L, y):\n",
    "    ans = []\n",
    "    for i in range(0,len(L)):\n",
    "        for j in range(i):\n",
    "            y[i][0] -= L[i][j]*ans[j]\n",
    "        ans.append(y[i][0])\n",
    "    return ans"
   ]
  },
  {
   "cell_type": "code",
   "execution_count": 14,
   "metadata": {},
   "outputs": [],
   "source": [
    "def upper_solve(U, y):\n",
    "    ans = [0 for i in range(len(U))]\n",
    "    for i in range(len(U)-1, -1, -1):\n",
    "        for j in range(len(y)-1, i , -1):\n",
    "            y[i] -= U[i][j] * ans[j][0]\n",
    "        ans[i] = [y[i] / U[i][i]]\n",
    "    return ans"
   ]
  },
  {
   "cell_type": "code",
   "execution_count": 15,
   "metadata": {},
   "outputs": [],
   "source": [
    "def get_inverse(A):\n",
    "    L, U = LU(A)\n",
    "    result = []\n",
    "    I = Idendity_matrix_for_inverse(1, len(A))\n",
    "    for i in I:\n",
    "        tmp = upper_solve(U, lower_solve(L ,i))\n",
    "        x = []\n",
    "        for num in tmp:\n",
    "            x.append(num[0])\n",
    "        result.append(x)\n",
    "    return matrix_transpose(result)"
   ]
  },
  {
   "cell_type": "code",
   "execution_count": 16,
   "metadata": {},
   "outputs": [],
   "source": [
    "def print_matrix(A):\n",
    "    for row in A:\n",
    "        print(row,'\\n')"
   ]
  },
  {
   "cell_type": "code",
   "execution_count": 17,
   "metadata": {},
   "outputs": [],
   "source": [
    "def error(A, x, y, lamb = 0):\n",
    "    pred = matrix_mul(A, x)\n",
    "    x_t = matrix_transpose(x)\n",
    "    err = 0\n",
    "    for i in range(len(y)):\n",
    "        err += (y[i][0] - pred[i][0]) ** 2\n",
    "    err += lamb * matrix_mul(x_t, x)[0][0]\n",
    "    return err"
   ]
  },
  {
   "cell_type": "code",
   "execution_count": 18,
   "metadata": {},
   "outputs": [],
   "source": [
    "def find_next(x0, A, y):\n",
    "    A_t = matrix_transpose(A)\n",
    "    A_tA = matrix_mul(A_t, A)\n",
    "    hessian = matrix_mul_scalar(A_tA, 2)\n",
    "    inverse_hessian = get_inverse(hessian)\n",
    "    nabla = matrix_sub(matrix_mul(hessian, x0), matrix_mul(matrix_mul_scalar(A_t, 2), y))\n",
    "    x_grad = matrix_mul(inverse_hessian, nabla)\n",
    "    x1 = matrix_sub(x0, x_grad)\n",
    "    return x1"
   ]
  },
  {
   "cell_type": "code",
   "execution_count": 19,
   "metadata": {},
   "outputs": [],
   "source": [
    "def newton(A, y, n):\n",
    "    result = []\n",
    "    x_old = [[0] for i in range(n)]\n",
    "    err = float(\"inf\")\n",
    "    \n",
    "    while(1):\n",
    "        x_new = find_next(x_old, A, y)\n",
    "        x_delta = matrix_sub(x_new, x_old)\n",
    "        x_delta = matrix_mul(matrix_transpose(x_delta), x_delta)\n",
    "        new_error = error(A, x_old, y)    \n",
    "        if new_error <= err:\n",
    "            err = new_error\n",
    "            ans = x_old\n",
    "            x_old = x_new\n",
    "        else:\n",
    "            break\n",
    "        '''\n",
    "        if(x_delta[0][0] < 0.001):\n",
    "            break\n",
    "        else:\n",
    "            x_old = x_new\n",
    "        '''\n",
    "    return ans\n",
    "    "
   ]
  },
  {
   "cell_type": "code",
   "execution_count": 20,
   "metadata": {},
   "outputs": [],
   "source": [
    "def print_function(x, n):\n",
    "    function = \"Fitting line: \"\n",
    "    for i in range(n):\n",
    "        function += str(x[i][0])\n",
    "        if n-i-1 != 0:\n",
    "            function += \"X^\"+str(n-i-1)\n",
    "            if(x[i+1][0]>0):\n",
    "                function += ' +'\n",
    "            else:\n",
    "                function += ' '\n",
    "        else:\n",
    "            pass\n",
    "    print(function)"
   ]
  },
  {
   "cell_type": "code",
   "execution_count": 21,
   "metadata": {},
   "outputs": [],
   "source": [
    "def print_lse(A, x, y):\n",
    "    print(\"LSE:\")\n",
    "    print_function(x, args.n)\n",
    "    print(\"Total error: \", error(A, x, y, args.lam))\n",
    "    graph(\"LSE\", A, x, y)"
   ]
  },
  {
   "cell_type": "code",
   "execution_count": 22,
   "metadata": {},
   "outputs": [],
   "source": [
    "def print_newton(A, x, y):\n",
    "    print(\"Newton's Method:\")\n",
    "    print_function(x, args.n)\n",
    "    print(\"Total error: \", error(A, x, y))\n",
    "    graph(\"Newton\", A, x, y)"
   ]
  },
  {
   "cell_type": "code",
   "execution_count": 23,
   "metadata": {},
   "outputs": [],
   "source": [
    "def graph(name, A, result, y):  \n",
    "    plt.title(name)\n",
    "    x, y = Read_file(args.file)\n",
    "    plt.scatter(x, y, c = 'red')    \n",
    "    func_x = np.array(range(-6, 7)) \n",
    "    func_y = sum(result[i][0]* func_x**(args.n-i-1) for i in range(len(result)))\n",
    "    plt.plot(func_x, func_y)\n",
    "    '''\n",
    "    x1, x2, y1, y2 = plt.axis()\n",
    "    plt.axis([x1, x2, -5, 150])\n",
    "    '''\n",
    "    plt.show()"
   ]
  },
  {
   "cell_type": "code",
   "execution_count": 24,
   "metadata": {
    "scrolled": true
   },
   "outputs": [
    {
     "name": "stdout",
     "output_type": "stream",
     "text": [
      "LSE:\n",
      "Fitting line: 0.17706464362192412X^3 +0.853383523699459X^2 +0.02410443568869497X^1 +0.04774151195752844\n",
      "Total error:  26908.427118299474\n"
     ]
    },
    {
     "data": {
      "image/png": "[encoded data removed]",
      "text/plain": [
       "<Figure size 432x288 with 1 Axes>"
      ]
     },
     "metadata": {
      "needs_background": "light"
     },
     "output_type": "display_data"
    },
    {
     "name": "stdout",
     "output_type": "stream",
     "text": [
      "Newton's Method:\n",
      "Fitting line: -0.0024817021513977022X^3 +3.023564056636268X^2 +4.950148778125887X^1 -0.22931017923939123\n",
      "Total error:  26.494565460031772\n"
     ]
    },
    {
     "data": {
      "image/png": "[encoded data removed]",
      "text/plain": [
       "<Figure size 432x288 with 1 Axes>"
      ]
     },
     "metadata": {
      "needs_background": "light"
     },
     "output_type": "display_data"
    }
   ],
   "source": [
    "if __name__ == \"__main__\":\n",
    "    # Read data\n",
    "    x, y = Read_file(args.file)\n",
    "    # basic matrix\n",
    "    A = matrix(x, args.n)\n",
    "    A_t = matrix_transpose(A)\n",
    "    A_tA = matrix_mul(A_t, A)\n",
    "    \n",
    "    # LSE\n",
    "    lambda_I = Idendity_matrix(args.lam, len(A_tA))\n",
    "    A_tAI = matrix_add(A_tA, lambda_I)\n",
    "    L, U = LU(A_tAI)\n",
    "    \n",
    "    A_ty = matrix_mul(A_t, y)\n",
    "      \n",
    "    x = upper_solve(U, lower_solve(L ,A_ty))\n",
    "    '''\n",
    "    inv = get_inverse(A_tAI)\n",
    "    x = matrix_mul(matrix_mul(inv, A_t), y)\n",
    "    '''\n",
    "    print_lse(A ,x, y)\n",
    "    \n",
    "    #Newton\n",
    "    x = newton(A, y, args.n)\n",
    "    print_newton(A, x, y)\n"
   ]
  },
  {
   "cell_type": "code",
   "execution_count": null,
   "metadata": {},
   "outputs": [],
   "source": []
  },
  {
   "cell_type": "code",
   "execution_count": null,
   "metadata": {},
   "outputs": [],
   "source": []
  }
 ],
 "metadata": {
  "kernelspec": {
   "display_name": "Python 3",
   "language": "python",
   "name": "python3"
  },
  "language_info": {
   "codemirror_mode": {
    "name": "ipython",
    "version": 3
   },
   "file_extension": ".py",
   "mimetype": "text/x-python",
   "name": "python",
   "nbconvert_exporter": "python",
   "pygments_lexer": "ipython3",
   "version": "3.7.3"
  }
 },
 "nbformat": 4,
 "nbformat_minor": 2
}
